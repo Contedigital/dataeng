{
 "cells": [
  {
   "cell_type": "markdown",
   "metadata": {},
   "source": [
    "# Wordcount using Kafka"
   ]
  },
  {
   "cell_type": "markdown",
   "metadata": {},
   "source": [
    "![](https://camo.githubusercontent.com/56166d361c3975dee750ecce16d605bbbf66516b/68747470733a2f2f75706c6f61642e77696b696d656469612e6f72672f77696b6970656469612f636f6d6d6f6e732f352f35332f4170616368655f6b61666b615f776f7264747970652e737667)"
   ]
  },
  {
   "cell_type": "code",
   "execution_count": 31,
   "metadata": {},
   "outputs": [],
   "source": [
    "from confluent_kafka import SerializingProducer, DeserializingConsumer\n",
    "from confluent_kafka.serialization import StringSerializer, StringDeserializer\n",
    "from confluent_kafka.admin import AdminClient, NewTopic\n",
    "from uuid import uuid4\n",
    "import sys, lorem, random\n",
    "\n",
    "brokers = \"kafka1:9092,kafka2:9093\"\n",
    "topics = [\"sentences\", \"words\", \"lengths\"]"
   ]
  },
  {
   "cell_type": "code",
   "execution_count": 32,
   "metadata": {},
   "outputs": [],
   "source": [
    "new_topics = [NewTopic(topic, num_partitions=2, replication_factor=1) for topic in topics]"
   ]
  },
  {
   "cell_type": "code",
   "execution_count": 33,
   "metadata": {},
   "outputs": [],
   "source": [
    "fs = a = AdminClient({'bootstrap.servers': brokers}).create_topics(new_topics)"
   ]
  },
  {
   "cell_type": "markdown",
   "metadata": {},
   "source": [
    "## Producing Sentences"
   ]
  },
  {
   "cell_type": "markdown",
   "metadata": {},
   "source": [
    "Non amet porro labore neque.\n",
    "Amet adipisci dolore amet aliquam amet consectetur.\n",
    "Neque ut neque porro non.\n",
    "Quiquia dolore magnam eius.\n",
    "Dolorem quiquia etincidunt magnam non.\n",
    "Modi quiquia neque adipisci.\n",
    "Ipsum modi ut neque.\n",
    "Velit est velit est neque quiquia.\n",
    "Neque dolorem velit amet quisquam quisquam.\n",
    "Tempora etincidunt non quiquia magnam dolor dolore.\n",
    "Sed amet dolore ipsum voluptatem.\n",
    "Est neque quaerat aliquam eius."
   ]
  },
  {
   "cell_type": "code",
   "execution_count": 5,
   "metadata": {},
   "outputs": [],
   "source": [
    "pconf = {\n",
    "    'bootstrap.servers': brokers,\n",
    "    'partitioner': 'murmur2_random',\n",
    "    'key.serializer': StringSerializer('utf_8'),\n",
    "    'value.serializer': StringSerializer('utf_8')\n",
    "}"
   ]
  },
  {
   "cell_type": "code",
   "execution_count": 6,
   "metadata": {},
   "outputs": [],
   "source": [
    "p = SerializingProducer(pconf)"
   ]
  },
  {
   "cell_type": "code",
   "execution_count": 13,
   "metadata": {},
   "outputs": [
    {
     "name": "stdout",
     "output_type": "stream",
     "text": [
      "Velit consectetur quaerat voluptatem ipsum voluptatem dolor quisquam.\n",
      "Ipsum dolore eius ipsum tempora magnam velit.\n",
      "Adipisci voluptatem tempora dolore amet ipsum.\n",
      "Consectetur est tempora ut sit aliquam.\n",
      "Ipsum ipsum non consectetur sed est sit.\n",
      "Dolorem ipsum dolorem neque labore tempora.\n",
      "Magnam eius eius dolorem ut.\n",
      "Neque est quaerat adipisci neque.\n",
      "Sed magnam quiquia sed consectetur tempora.\n",
      "Magnam voluptatem velit voluptatem magnam dolor ipsum.\n",
      "Sit dolorem tempora magnam modi dolor dolorem.\n",
      "Quaerat dolore adipisci modi labore.\n",
      "Labore magnam dolore amet dolore ipsum.\n",
      "Etincidunt tempora dolor dolorem.\n",
      "Velit etincidunt eius quiquia adipisci tempora dolore.\n",
      "Dolore dolore velit modi ut sit.\n",
      "Dolorem dolore aliquam labore quaerat aliquam.\n",
      "Quiquia ipsum amet quisquam eius sit.\n",
      "Modi sed est voluptatem.\n",
      "Consectetur modi quaerat etincidunt porro sit.\n",
      "Ipsum amet eius magnam.\n",
      "Adipisci dolore adipisci eius dolorem ipsum dolorem consectetur.\n",
      "Quaerat voluptatem est ut ipsum eius.\n",
      "Magnam ut tempora ut sed dolore voluptatem consectetur.\n",
      "Ut sit amet quiquia velit.\n",
      "Dolorem adipisci ut sed.\n",
      "Quaerat numquam quaerat eius labore quisquam.\n",
      "Neque magnam etincidunt adipisci dolor.\n",
      "Ut aliquam voluptatem labore.\n",
      "Est sit aliquam modi dolore quaerat quaerat aliquam.\n",
      "Consectetur voluptatem magnam neque consectetur amet numquam.\n",
      "Aliquam adipisci est velit quisquam quiquia quiquia.\n",
      "Dolor adipisci quisquam eius ut magnam.\n",
      "Quiquia tempora eius consectetur.\n",
      "Est sed numquam numquam magnam est.\n",
      "Quiquia porro quaerat modi ipsum.\n",
      "Porro etincidunt est ut.\n",
      "Quiquia velit velit magnam modi eius.\n",
      "Quaerat consectetur dolore consectetur adipisci dolorem numquam quisquam.\n",
      "Dolor tempora dolorem ut dolore neque non porro.\n",
      "Eius numquam dolore ipsum porro.\n",
      "Tempora neque dolorem sit etincidunt.\n",
      "Aliquam quisquam dolore neque adipisci adipisci.\n",
      "Magnam porro dolore est labore sed dolore.\n",
      "Non quisquam sit quisquam.\n",
      "Ipsum labore labore eius.\n",
      "Sed porro aliquam aliquam dolorem quisquam.\n",
      "Dolore sit aliquam velit quaerat adipisci labore.\n",
      "Labore eius sed neque quiquia.\n",
      "Neque dolorem velit modi velit tempora.\n",
      "Labore amet magnam numquam porro.\n",
      "Quiquia eius amet quaerat voluptatem.\n",
      "Voluptatem neque consectetur sit ut quaerat ipsum numquam.\n",
      "Est dolore quaerat dolore velit modi dolorem neque.\n",
      "Porro dolore quiquia velit non.\n",
      "Magnam aliquam sed labore.\n",
      "Quaerat quiquia sit dolorem.\n",
      "Adipisci adipisci amet sed ipsum labore neque aliquam.\n",
      "Modi adipisci sed dolorem est.\n",
      "Sed non ipsum quisquam neque sed.\n",
      "Est neque tempora voluptatem.\n",
      "Dolor ipsum consectetur eius.\n",
      "Modi voluptatem modi ipsum voluptatem.\n",
      "Dolorem ipsum sit quiquia amet dolor.\n",
      "Etincidunt sit tempora adipisci.\n",
      "Est labore dolorem dolore tempora labore dolore.\n",
      "Neque dolore quaerat voluptatem sit non quaerat sed.\n",
      "Quiquia porro magnam ut tempora eius.\n",
      "Porro ipsum magnam velit.\n",
      "Modi dolorem non non.\n",
      "Eius quaerat ut est.\n",
      "Ut consectetur amet numquam neque.\n",
      "Modi dolor dolore aliquam etincidunt.\n",
      "Magnam quiquia quisquam amet sed porro est labore.\n",
      "Tempora etincidunt neque sit sit voluptatem voluptatem adipisci.\n",
      "Non modi adipisci dolore.\n",
      "Amet porro modi modi consectetur ipsum.\n",
      "Magnam sed sit aliquam quiquia adipisci amet.\n",
      "Ipsum magnam quiquia quaerat numquam amet etincidunt voluptatem.\n",
      "Neque neque ipsum sed quaerat sed.\n",
      "Quaerat ut velit quaerat ipsum voluptatem adipisci ut.\n",
      "Numquam consectetur amet dolor est.\n",
      "Sed porro amet amet tempora.\n",
      "Quiquia consectetur quiquia labore neque eius est.\n",
      "Adipisci quisquam ipsum quaerat quaerat.\n",
      "Quaerat ipsum adipisci consectetur.\n",
      "Sit quiquia eius adipisci numquam modi sit quiquia.\n",
      "Voluptatem consectetur ut amet etincidunt.\n",
      "Tempora labore tempora modi.\n",
      "Amet dolore est neque sed sit.\n",
      "Sit voluptatem magnam dolor.\n",
      "Dolorem neque quaerat quiquia adipisci etincidunt.\n",
      "Ut sed sed non eius magnam voluptatem quisquam.\n",
      "Adipisci eius dolore quaerat.\n",
      "Tempora dolore voluptatem quiquia amet etincidunt.\n",
      "Adipisci adipisci modi modi eius adipisci.\n",
      "Quiquia porro amet tempora adipisci est.\n",
      "Ut aliquam neque ipsum ut quisquam aliquam.\n",
      "Magnam quisquam porro porro consectetur consectetur amet consectetur.\n"
     ]
    }
   ],
   "source": [
    "for n in range(1,100):\n",
    "    try:\n",
    "        # Produce line (without newline)\n",
    "        line = lorem.sentence()\n",
    "        p.produce(topics[0], key=\"key\"+str(random.randint(0,1)), value=line)\n",
    "        p.poll(0)\n",
    "        p.flush()\n",
    "        print(line)\n",
    "    except BufferError:\n",
    "        sys.stderr.write('%% Local producer queue is full (%d messages awaiting delivery): try again\\n' % len(p))"
   ]
  },
  {
   "cell_type": "markdown",
   "metadata": {},
   "source": [
    "## Consuming Sentences"
   ]
  },
  {
   "cell_type": "code",
   "execution_count": 8,
   "metadata": {},
   "outputs": [],
   "source": [
    "string_deserializer = StringDeserializer('utf_8')"
   ]
  },
  {
   "cell_type": "code",
   "execution_count": 122,
   "metadata": {},
   "outputs": [],
   "source": [
    "consumer_conf = {\n",
    "    'bootstrap.servers': brokers,\n",
    "    'key.deserializer': string_deserializer,\n",
    "    'value.deserializer': string_deserializer,\n",
    "    'group.id': str(uuid4()),\n",
    "    'session.timeout.ms': 6000,\n",
    "    'auto.offset.reset': 'earliest'\n",
    "}"
   ]
  },
  {
   "cell_type": "code",
   "execution_count": 123,
   "metadata": {},
   "outputs": [],
   "source": [
    "c = DeserializingConsumer(consumer_conf)\n",
    "c.subscribe([topics[0]])"
   ]
  },
  {
   "cell_type": "code",
   "execution_count": 124,
   "metadata": {},
   "outputs": [
    {
     "name": "stdout",
     "output_type": "stream",
     "text": [
      "sentences [0] at offset  0 with key  7cafcf71-386a-47a5-a3df-358feedc52db:  Dolore porro aliquam neque adipisci numquam neque.\n",
      "sentences [0] at offset  1 with key  2df8fcce-aad7-4118-abf9-8dfc31a45599:  Ut consectetur est adipisci numquam.\n",
      "sentences [0] at offset  2 with key  c4fe9d1d-7e8a-4378-983f-11e22354d554:  Ut etincidunt modi velit.\n",
      "sentences [0] at offset  3 with key  2233e624-013d-42be-a3c5-aa41b69abe87:  Non velit velit voluptatem modi tempora labore.\n",
      "sentences [0] at offset  4 with key  189672eb-f73a-4416-b283-d87bc2d9a3f1:  Dolorem numquam quiquia modi consectetur.\n",
      "sentences [0] at offset  5 with key  f0c48a72-2c52-4571-8db3-a36f540e591f:  Porro ipsum modi ut dolor quiquia.\n",
      "sentences [0] at offset  6 with key  2e49105a-4917-41b7-b11c-3cacadddacab:  Non etincidunt labore modi dolor quiquia.\n",
      "sentences [0] at offset  7 with key  11a6ec0c-1d01-4703-b705-5ae0a9b7ab6e:  Non adipisci magnam tempora est dolor labore consectetur.\n",
      "sentences [0] at offset  8 with key  5e293888-2aca-41ca-a8ff-50deb6634cc7:  Non modi quaerat voluptatem magnam modi magnam neque.\n",
      "sentences [0] at offset  9 with key  193f2aea-7c12-4aca-b197-5906e0c43301:  Quaerat numquam consectetur modi.\n",
      "sentences [0] at offset  10 with key  f051f72b-8acd-4515-8a42-b7cd54e71b16:  Est magnam etincidunt tempora adipisci sed.\n",
      "sentences [0] at offset  11 with key  d51fa8f6-13d5-40d5-84ee-8bd57a985026:  Adipisci porro etincidunt neque amet eius.\n",
      "sentences [0] at offset  12 with key  4b722e24-3ee5-41de-9ccd-60e80b52d7f8:  Amet quaerat quaerat adipisci dolorem quiquia.\n",
      "sentences [0] at offset  13 with key  175aa4f8-f80b-48bb-8b6d-9fe2c46fe626:  Adipisci velit quiquia amet modi non dolorem.\n",
      "sentences [0] at offset  14 with key  d6d30be1-bca6-46cf-b6dd-b97d585445c2:  Est sed aliquam tempora dolore labore.\n",
      "sentences [0] at offset  15 with key  9c5ed1ff-5532-4d5c-bd5d-6a0c9f7c3d12:  Non voluptatem velit sed eius.\n",
      "sentences [0] at offset  16 with key  8e64f8be-8cd8-4d94-b4d9-0567f2774b92:  Eius ut dolorem modi eius numquam eius quaerat.\n",
      "sentences [0] at offset  17 with key  95e6374a-358e-4705-8824-10a58c3ad675:  Aliquam aliquam eius quaerat sit.\n",
      "sentences [0] at offset  18 with key  e242845d-1fd8-4cd1-813c-b7f70cf33583:  Ut numquam magnam quisquam dolorem.\n",
      "sentences [0] at offset  19 with key  05216d13-92d6-4f16-a837-fdb98bb4ac9e:  Amet porro dolore non porro eius ipsum amet.\n",
      "sentences [0] at offset  20 with key  25d38da8-9e49-4111-b4ec-3b6a0bfa56f8:  Est voluptatem sed etincidunt dolorem.\n",
      "sentences [0] at offset  21 with key  7d816631-94aa-4455-b84c-8886cf7273aa:  Etincidunt neque non neque eius.\n",
      "sentences [0] at offset  22 with key  3ad0c29d-2d88-4956-9cc7-f55195993ba2:  Quisquam dolore quisquam neque numquam dolorem.\n",
      "sentences [0] at offset  23 with key  e3d89910-2f98-49b4-9092-a9aa1fb5c3a5:  Adipisci amet est modi ipsum adipisci.\n",
      "sentences [0] at offset  24 with key  960945b0-9b56-40a6-a119-112abb3ad1c7:  Adipisci adipisci voluptatem ut porro.\n",
      "sentences [0] at offset  25 with key  ea839168-bf21-4f95-9dda-3eec9f279212:  Dolor ut velit quiquia porro eius magnam numquam.\n",
      "sentences [0] at offset  26 with key  54e81216-7c1e-4450-9a8d-bdfb866c14d2:  Aliquam adipisci numquam quaerat quaerat amet consectetur.\n",
      "sentences [0] at offset  27 with key  4aae4184-4bee-4554-9750-1757a731e108:  Dolore neque sed quisquam.\n",
      "sentences [0] at offset  28 with key  5d7aa5e6-bb06-48ae-9dea-f0fb21ed9fc0:  Adipisci neque neque consectetur.\n",
      "sentences [0] at offset  29 with key  96ef4848-75ec-40f8-9ff6-716ed7f82144:  Dolore etincidunt sit quiquia velit.\n",
      "sentences [0] at offset  30 with key  ab02917f-80af-4a82-a0ed-d99190833a27:  Aliquam amet aliquam quiquia.\n",
      "sentences [0] at offset  31 with key  b0cbd014-1a99-42b4-b37e-91c2502f0d4f:  Non aliquam sed neque magnam quaerat.\n",
      "sentences [0] at offset  32 with key  6fe2ec96-09d3-400a-a703-83528534272b:  Neque aliquam non amet aliquam.\n",
      "sentences [0] at offset  33 with key  b8c25b52-3778-40d0-bed0-6ba3c79e0144:  Labore porro sit voluptatem tempora ipsum eius.\n",
      "sentences [0] at offset  34 with key  41d3aaf2-8205-492c-8165-f994930dbd5d:  Aliquam consectetur dolor velit eius.\n",
      "sentences [0] at offset  35 with key  53d600bf-012c-4835-8d00-96a7ca27778c:  Neque labore tempora neque non.\n",
      "sentences [0] at offset  36 with key  4fbebd5a-823d-4d69-9109-6fb3265d06ab:  Ut tempora quisquam modi ut.\n",
      "sentences [0] at offset  37 with key  6da29c90-77d1-480b-b7aa-98d8665b1a20:  Porro amet amet sed dolor.\n",
      "sentences [0] at offset  38 with key  5e44ae0c-24a3-4f1b-8f22-61fefda71f4a:  Modi magnam magnam eius est sed.\n",
      "sentences [0] at offset  39 with key  2aaec845-b554-4b62-a490-b118332d2248:  Quiquia dolore quaerat tempora porro aliquam.\n",
      "sentences [0] at offset  40 with key  6dbc2889-6688-45af-a87c-e9cbda542d29:  Neque sit dolor labore quiquia sit ut dolor.\n",
      "sentences [0] at offset  41 with key  a2eab639-c55c-4524-935f-7a8b0d6e823e:  Adipisci quaerat non quisquam numquam sed.\n",
      "sentences [0] at offset  42 with key  78656653-d041-47cb-a942-a1c7dbba0dd7:  Modi numquam neque non.\n",
      "sentences [0] at offset  43 with key  05031489-fd17-4c56-8e29-0e096c75f48b:  Magnam quaerat ut ipsum porro dolore etincidunt.\n",
      "sentences [0] at offset  44 with key  f684743b-272b-442d-88e7-f0f842daf19f:  Consectetur quiquia consectetur etincidunt.\n",
      "sentences [0] at offset  45 with key  021503b3-3dfe-4d8a-8f0f-b882e9fa6b5e:  Ut quiquia amet aliquam voluptatem quisquam labore.\n",
      "sentences [0] at offset  46 with key  b53c4c8d-1f0e-446c-a617-485fa7841389:  Quiquia numquam non consectetur non amet modi ipsum.\n",
      "sentences [0] at offset  47 with key  9b58670d-ca18-4f53-822b-dfa758b5fbdf:  Non modi ipsum adipisci etincidunt.\n",
      "sentences [0] at offset  48 with key  7fbfc3fb-2ac2-405f-ae08-8847ea3f098d:  Quiquia velit dolor ipsum numquam etincidunt.\n",
      "sentences [0] at offset  49 with key  356fe3ad-281f-488b-92f0-7d1f5c0bda07:  Numquam labore adipisci est.\n",
      "sentences [0] at offset  50 with key  5a6210d2-3169-4086-8b6d-309e688ce182:  Labore dolore dolore porro.\n",
      "sentences [0] at offset  51 with key  e3547319-6906-41f4-b02c-e9b9a9298e2b:  Neque aliquam sit quisquam modi magnam magnam.\n",
      "sentences [0] at offset  52 with key  d49ea22c-246f-466e-a969-b35e1fe28dcb:  Dolorem aliquam quiquia numquam ut.\n",
      "sentences [0] at offset  53 with key  aa371575-24c5-40ea-aeae-1f8e0bf05017:  Modi sit ipsum voluptatem amet velit etincidunt.\n",
      "sentences [0] at offset  54 with key  aeac5654-e00d-4054-8444-72ff92245cac:  Ipsum est ipsum dolore.\n",
      "sentences [0] at offset  55 with key  16868cf0-2e0e-4239-b0c3-998cdd41344d:  Quiquia velit quisquam quaerat quiquia adipisci dolor etincidunt.\n",
      "sentences [0] at offset  56 with key  401e2c19-6c7f-48fd-85cc-47c297edd68f:  Dolorem est velit dolor amet labore voluptatem velit.\n",
      "sentences [0] at offset  57 with key  91c1ec07-b47c-4475-81dc-b17212ac36db:  Amet est magnam aliquam dolor velit neque.\n",
      "sentences [0] at offset  58 with key  4262cf1a-f109-41e2-9abe-aacb68f5ffe1:  Quaerat consectetur tempora quiquia sed dolore amet magnam.\n",
      "sentences [0] at offset  59 with key  6ca26ffb-1813-469a-b4c8-6f077e8dc666:  Neque quiquia etincidunt neque sit velit sit.\n",
      "sentences [0] at offset  60 with key  4725ecd5-ac7f-4b80-8f06-34168da5f4e6:  Adipisci quiquia magnam magnam quiquia.\n",
      "sentences [0] at offset  61 with key  3f678a24-a6c5-4ff4-afea-6307f41e3d10:  Est quiquia adipisci etincidunt non tempora modi porro.\n",
      "sentences [0] at offset  62 with key  082ecdcb-d8ed-4b87-b7cb-6af78e902b17:  Amet neque numquam etincidunt.\n",
      "sentences [0] at offset  63 with key  d556f156-67ab-46d6-8e50-6051ea8156a6:  Numquam ut non ipsum velit amet.\n",
      "sentences [0] at offset  64 with key  12e6fd62-5381-4a63-90c6-e86cf42e83d3:  Dolore est dolor dolor neque.\n",
      "sentences [0] at offset  65 with key  80825887-77e7-40d2-aded-dd5da1a8a5a3:  Quaerat voluptatem quaerat adipisci amet magnam consectetur.\n",
      "sentences [0] at offset  66 with key  d9abc607-aa5f-424f-a1fc-e38d16710e9e:  Dolorem quiquia quisquam ut voluptatem tempora.\n",
      "sentences [0] at offset  67 with key  1aaea241-0c25-4170-a6b2-415c717d130a:  Ut porro tempora consectetur non.\n",
      "sentences [0] at offset  68 with key  59360a2d-4ce5-4379-8a6c-41f0066267cd:  Labore sit ipsum tempora quiquia quiquia numquam.\n",
      "sentences [0] at offset  69 with key  668bfed9-fe2b-49b9-8388-1ed7016ed52c:  Velit sit dolore dolor.\n",
      "sentences [0] at offset  70 with key  023cde2e-f7e3-4b73-8e38-63d3edf4ac73:  Non voluptatem dolorem amet quiquia etincidunt quaerat.\n",
      "sentences [0] at offset  71 with key  fa28fee2-24b6-4268-af6d-59f3665b806f:  Quaerat eius est ipsum velit dolor voluptatem.\n",
      "sentences [0] at offset  72 with key  83341e6d-b509-4823-ae9d-027e4799cfda:  Porro neque dolor ut est neque.\n",
      "sentences [0] at offset  73 with key  eda2bdc3-d5d1-4f90-b7c9-963be9927f02:  Ut neque est velit dolor neque ut.\n",
      "sentences [0] at offset  74 with key  558e93c0-6f02-4a30-8d35-7047ad466672:  Quiquia dolorem dolorem amet quisquam.\n",
      "sentences [0] at offset  75 with key  b3dd9dee-43d8-4fd9-8c28-fb35720561de:  Ut tempora numquam consectetur magnam ipsum eius.\n",
      "sentences [0] at offset  76 with key  c5b29b67-b02f-41a2-951c-8f4898fe4a93:  Quaerat sit dolorem velit quiquia non ut ipsum.\n",
      "sentences [0] at offset  77 with key  76aa3eb8-fef0-4f4c-95b4-92cc0b35c148:  Amet neque adipisci porro dolor velit labore dolorem.\n",
      "sentences [0] at offset  78 with key  c49e44fe-de21-41a6-a695-e25b081c6565:  Ipsum porro velit velit.\n",
      "sentences [0] at offset  79 with key  14a622f9-eb24-4fc4-b1e0-46091fd7234c:  Quaerat aliquam ut dolorem.\n",
      "sentences [0] at offset  80 with key  e95a89c1-c9ab-4f68-b221-b6c0b86f3a3e:  Etincidunt dolore porro est neque non aliquam.\n",
      "sentences [0] at offset  81 with key  8c6cade6-9fde-4698-b1a6-c2a9982e2c31:  Amet quisquam est magnam dolore sed.\n",
      "sentences [0] at offset  82 with key  9103f679-27bc-425d-91a9-6e8ced699ef6:  Numquam sed sed sit est labore adipisci eius.\n",
      "sentences [0] at offset  83 with key  e58b1601-2697-4310-ab31-f3aebaa6a240:  Etincidunt dolor voluptatem sit.\n",
      "sentences [0] at offset  84 with key  0b44a7fd-753a-45cd-b8d7-fd5eccf06ef3:  Adipisci dolore consectetur labore voluptatem.\n",
      "sentences [0] at offset  85 with key  adc4f51a-fddd-4041-8748-a57678102e29:  Eius neque quaerat quiquia ut dolor quisquam.\n",
      "sentences [0] at offset  86 with key  d099ad73-ac9f-43ab-a341-f6d4ae332917:  Dolorem voluptatem etincidunt magnam ipsum.\n",
      "sentences [0] at offset  87 with key  2c860850-88e8-4b94-8c1a-0f1ec50bebb5:  Numquam voluptatem consectetur eius quaerat quisquam porro.\n",
      "sentences [0] at offset  88 with key  2adbb6a1-c8b1-484a-ada8-2bd04ef504d0:  Consectetur quisquam voluptatem neque sed sed quiquia aliquam.\n",
      "sentences [0] at offset  89 with key  059f5ddf-567c-4b53-9f84-598c4f993b86:  Ut consectetur magnam labore non aliquam.\n",
      "sentences [0] at offset  90 with key  39d1bba4-3999-419a-97bf-408d5cfbb0d5:  Eius dolor eius voluptatem.\n",
      "sentences [0] at offset  91 with key  5874fdc5-afc0-488c-b86e-77911e2d4755:  Sed porro dolor aliquam.\n",
      "sentences [0] at offset  92 with key  acb5da43-6ee4-464a-80db-4893128569c9:  Quiquia numquam tempora dolore sed etincidunt.\n",
      "sentences [0] at offset  93 with key  1dc04cf9-3376-4238-b209-bc295a4cd0ae:  Sit dolorem numquam adipisci tempora ut est etincidunt.\n",
      "sentences [0] at offset  94 with key  05134851-0947-403b-922e-31babd1844ca:  Amet porro amet modi dolore.\n",
      "sentences [0] at offset  95 with key  69e03b3a-8cce-48fd-915f-a368393b8a8b:  Neque magnam aliquam quiquia sit numquam.\n",
      "sentences [0] at offset  96 with key  5a3c5ad0-b3f1-4082-bf1c-ee3b0a734091:  Dolore aliquam dolore voluptatem.\n",
      "sentences [0] at offset  97 with key  7be8674e-10fc-4b40-b0e8-0e589284131b:  Labore amet aliquam amet consectetur consectetur quisquam voluptatem.\n",
      "sentences [0] at offset  98 with key  7e5cfe6b-e38d-4dfb-9366-2d212e500965:  Dolore ipsum voluptatem dolore sed voluptatem quaerat.\n",
      "sentences [0] at offset  99 with key  key1:  Velit consectetur quaerat voluptatem ipsum voluptatem dolor quisquam.\n",
      "sentences [0] at offset  100 with key  key1:  Ipsum dolore eius ipsum tempora magnam velit.\n",
      "sentences [0] at offset  101 with key  key1:  Adipisci voluptatem tempora dolore amet ipsum.\n",
      "sentences [0] at offset  102 with key  key1:  Consectetur est tempora ut sit aliquam.\n",
      "sentences [0] at offset  103 with key  key0:  Ipsum ipsum non consectetur sed est sit.\n",
      "sentences [0] at offset  104 with key  key0:  Dolorem ipsum dolorem neque labore tempora.\n",
      "sentences [0] at offset  105 with key  key0:  Magnam eius eius dolorem ut.\n",
      "sentences [0] at offset  106 with key  key0:  Neque est quaerat adipisci neque.\n",
      "sentences [0] at offset  107 with key  key0:  Sed magnam quiquia sed consectetur tempora.\n",
      "sentences [0] at offset  108 with key  key1:  Magnam voluptatem velit voluptatem magnam dolor ipsum.\n",
      "sentences [0] at offset  109 with key  key0:  Sit dolorem tempora magnam modi dolor dolorem.\n",
      "sentences [0] at offset  110 with key  key1:  Quaerat dolore adipisci modi labore.\n",
      "sentences [0] at offset  111 with key  key1:  Labore magnam dolore amet dolore ipsum.\n",
      "sentences [0] at offset  112 with key  key0:  Etincidunt tempora dolor dolorem.\n",
      "sentences [0] at offset  113 with key  key1:  Velit etincidunt eius quiquia adipisci tempora dolore.\n",
      "sentences [0] at offset  114 with key  key0:  Dolore dolore velit modi ut sit.\n",
      "sentences [0] at offset  115 with key  key0:  Dolorem dolore aliquam labore quaerat aliquam.\n",
      "sentences [0] at offset  116 with key  key0:  Quiquia ipsum amet quisquam eius sit.\n",
      "sentences [0] at offset  117 with key  key0:  Modi sed est voluptatem.\n",
      "sentences [0] at offset  118 with key  key1:  Consectetur modi quaerat etincidunt porro sit.\n",
      "sentences [0] at offset  119 with key  key0:  Ipsum amet eius magnam.\n",
      "sentences [0] at offset  120 with key  key0:  Adipisci dolore adipisci eius dolorem ipsum dolorem consectetur.\n",
      "sentences [0] at offset  121 with key  key0:  Quaerat voluptatem est ut ipsum eius.\n",
      "sentences [0] at offset  122 with key  key0:  Magnam ut tempora ut sed dolore voluptatem consectetur.\n",
      "sentences [0] at offset  123 with key  key1:  Ut sit amet quiquia velit.\n",
      "sentences [0] at offset  124 with key  key1:  Dolorem adipisci ut sed.\n",
      "sentences [0] at offset  125 with key  key1:  Quaerat numquam quaerat eius labore quisquam.\n",
      "sentences [0] at offset  126 with key  key0:  Neque magnam etincidunt adipisci dolor.\n",
      "sentences [0] at offset  127 with key  key1:  Ut aliquam voluptatem labore.\n",
      "sentences [0] at offset  128 with key  key0:  Est sit aliquam modi dolore quaerat quaerat aliquam.\n",
      "sentences [0] at offset  129 with key  key0:  Consectetur voluptatem magnam neque consectetur amet numquam.\n",
      "sentences [0] at offset  130 with key  key0:  Aliquam adipisci est velit quisquam quiquia quiquia.\n",
      "sentences [0] at offset  131 with key  key1:  Dolor adipisci quisquam eius ut magnam.\n",
      "sentences [0] at offset  132 with key  key1:  Quiquia tempora eius consectetur.\n",
      "sentences [0] at offset  133 with key  key1:  Est sed numquam numquam magnam est.\n",
      "sentences [0] at offset  134 with key  key1:  Quiquia porro quaerat modi ipsum.\n",
      "sentences [0] at offset  135 with key  key0:  Porro etincidunt est ut.\n",
      "sentences [0] at offset  136 with key  key1:  Quiquia velit velit magnam modi eius.\n",
      "sentences [0] at offset  137 with key  key0:  Quaerat consectetur dolore consectetur adipisci dolorem numquam quisquam.\n",
      "sentences [0] at offset  138 with key  key1:  Dolor tempora dolorem ut dolore neque non porro.\n",
      "sentences [0] at offset  139 with key  key0:  Eius numquam dolore ipsum porro.\n",
      "sentences [0] at offset  140 with key  key0:  Tempora neque dolorem sit etincidunt.\n",
      "sentences [0] at offset  141 with key  key0:  Aliquam quisquam dolore neque adipisci adipisci.\n",
      "sentences [0] at offset  142 with key  key1:  Magnam porro dolore est labore sed dolore.\n",
      "sentences [0] at offset  143 with key  key1:  Non quisquam sit quisquam.\n",
      "sentences [0] at offset  144 with key  key0:  Ipsum labore labore eius.\n",
      "sentences [0] at offset  145 with key  key1:  Sed porro aliquam aliquam dolorem quisquam.\n",
      "sentences [0] at offset  146 with key  key1:  Dolore sit aliquam velit quaerat adipisci labore.\n",
      "sentences [0] at offset  147 with key  key0:  Labore eius sed neque quiquia.\n",
      "sentences [0] at offset  148 with key  key0:  Neque dolorem velit modi velit tempora.\n",
      "sentences [0] at offset  149 with key  key0:  Labore amet magnam numquam porro.\n",
      "sentences [0] at offset  150 with key  key0:  Quiquia eius amet quaerat voluptatem.\n",
      "sentences [0] at offset  151 with key  key0:  Voluptatem neque consectetur sit ut quaerat ipsum numquam.\n",
      "sentences [0] at offset  152 with key  key0:  Est dolore quaerat dolore velit modi dolorem neque.\n",
      "sentences [0] at offset  153 with key  key0:  Porro dolore quiquia velit non.\n",
      "sentences [0] at offset  154 with key  key1:  Magnam aliquam sed labore.\n",
      "sentences [0] at offset  155 with key  key1:  Quaerat quiquia sit dolorem.\n",
      "sentences [0] at offset  156 with key  key0:  Adipisci adipisci amet sed ipsum labore neque aliquam.\n",
      "sentences [0] at offset  157 with key  key1:  Modi adipisci sed dolorem est.\n",
      "sentences [0] at offset  158 with key  key1:  Sed non ipsum quisquam neque sed.\n",
      "sentences [0] at offset  159 with key  key0:  Est neque tempora voluptatem.\n",
      "sentences [0] at offset  160 with key  key0:  Dolor ipsum consectetur eius.\n",
      "sentences [0] at offset  161 with key  key0:  Modi voluptatem modi ipsum voluptatem.\n",
      "sentences [0] at offset  162 with key  key1:  Dolorem ipsum sit quiquia amet dolor.\n",
      "sentences [0] at offset  163 with key  key1:  Etincidunt sit tempora adipisci.\n",
      "sentences [0] at offset  164 with key  key1:  Est labore dolorem dolore tempora labore dolore.\n",
      "sentences [0] at offset  165 with key  key0:  Neque dolore quaerat voluptatem sit non quaerat sed.\n",
      "sentences [0] at offset  166 with key  key1:  Quiquia porro magnam ut tempora eius.\n",
      "sentences [0] at offset  167 with key  key1:  Porro ipsum magnam velit.\n",
      "sentences [0] at offset  168 with key  key0:  Modi dolorem non non.\n",
      "sentences [0] at offset  169 with key  key1:  Eius quaerat ut est.\n",
      "sentences [0] at offset  170 with key  key0:  Ut consectetur amet numquam neque.\n",
      "sentences [0] at offset  171 with key  key0:  Modi dolor dolore aliquam etincidunt.\n",
      "sentences [0] at offset  172 with key  key1:  Magnam quiquia quisquam amet sed porro est labore.\n",
      "sentences [0] at offset  173 with key  key0:  Tempora etincidunt neque sit sit voluptatem voluptatem adipisci.\n",
      "sentences [0] at offset  174 with key  key0:  Non modi adipisci dolore.\n",
      "sentences [0] at offset  175 with key  key0:  Amet porro modi modi consectetur ipsum.\n",
      "sentences [0] at offset  176 with key  key0:  Magnam sed sit aliquam quiquia adipisci amet.\n",
      "sentences [0] at offset  177 with key  key0:  Ipsum magnam quiquia quaerat numquam amet etincidunt voluptatem.\n",
      "sentences [0] at offset  178 with key  key0:  Neque neque ipsum sed quaerat sed.\n",
      "sentences [0] at offset  179 with key  key0:  Quaerat ut velit quaerat ipsum voluptatem adipisci ut.\n",
      "sentences [0] at offset  180 with key  key0:  Numquam consectetur amet dolor est.\n",
      "sentences [0] at offset  181 with key  key0:  Sed porro amet amet tempora.\n",
      "sentences [0] at offset  182 with key  key1:  Quiquia consectetur quiquia labore neque eius est.\n",
      "sentences [0] at offset  183 with key  key1:  Adipisci quisquam ipsum quaerat quaerat.\n",
      "sentences [0] at offset  184 with key  key0:  Quaerat ipsum adipisci consectetur.\n",
      "sentences [0] at offset  185 with key  key1:  Sit quiquia eius adipisci numquam modi sit quiquia.\n",
      "sentences [0] at offset  186 with key  key0:  Voluptatem consectetur ut amet etincidunt.\n",
      "sentences [0] at offset  187 with key  key1:  Tempora labore tempora modi.\n",
      "sentences [0] at offset  188 with key  key1:  Amet dolore est neque sed sit.\n",
      "sentences [0] at offset  189 with key  key1:  Sit voluptatem magnam dolor.\n",
      "sentences [0] at offset  190 with key  key1:  Dolorem neque quaerat quiquia adipisci etincidunt.\n",
      "sentences [0] at offset  191 with key  key1:  Ut sed sed non eius magnam voluptatem quisquam.\n",
      "sentences [0] at offset  192 with key  key1:  Adipisci eius dolore quaerat.\n",
      "sentences [0] at offset  193 with key  key0:  Tempora dolore voluptatem quiquia amet etincidunt.\n",
      "sentences [0] at offset  194 with key  key1:  Adipisci adipisci modi modi eius adipisci.\n",
      "sentences [0] at offset  195 with key  key1:  Quiquia porro amet tempora adipisci est.\n",
      "sentences [0] at offset  196 with key  key1:  Ut aliquam neque ipsum ut quisquam aliquam.\n",
      "sentences [0] at offset  197 with key  key1:  Magnam quisquam porro porro consectetur consectetur amet consectetur.\n"
     ]
    },
    {
     "name": "stderr",
     "output_type": "stream",
     "text": [
      "%% Aborted by user\n"
     ]
    }
   ],
   "source": [
    "try:\n",
    "    while True:\n",
    "        # SIGINT can't be handled when polling, limit timeout to 1 second.\n",
    "        msg = c.poll(1.0)\n",
    "        if msg is None:\n",
    "            continue\n",
    "        if msg.error():\n",
    "            raise KafkaException(msg.error())\n",
    "        else:\n",
    "            print(\"{} [{}] at offset  {} with key  {}:  {}\".format(msg.topic(), msg.partition(), msg.offset(), str(msg.key()), str(msg.value())))\n",
    "except KeyboardInterrupt:\n",
    "    sys.stderr.write('%% Aborted by user\\n')\n",
    "finally:\n",
    "    # Close down consumer to commit final offsets.\n",
    "    c.close()"
   ]
  },
  {
   "cell_type": "markdown",
   "metadata": {},
   "source": [
    "## Consuming Sentences and Producing Words"
   ]
  },
  {
   "cell_type": "code",
   "execution_count": 22,
   "metadata": {},
   "outputs": [],
   "source": [
    "from confluent_kafka.serialization import IntegerSerializer, IntegerDeserializer\n",
    "\n",
    "consumer_conf['group.id'] = str(uuid4())\n",
    "c2 = DeserializingConsumer(consumer_conf)\n",
    "c2.subscribe([topics[0]])\n",
    "\n",
    "pconf = {\n",
    "    'bootstrap.servers': brokers,\n",
    "    'key.serializer': StringSerializer('utf_8'),\n",
    "    'value.serializer': IntegerSerializer()\n",
    "}\n",
    "\n",
    "\n",
    "p2 = SerializingProducer(pconf)"
   ]
  },
  {
   "cell_type": "code",
   "execution_count": 121,
   "metadata": {},
   "outputs": [
    {
     "ename": "RuntimeError",
     "evalue": "Consumer closed",
     "output_type": "error",
     "traceback": [
      "\u001b[0;31m---------------------------------------------------------------------------\u001b[0m",
      "\u001b[0;31mRuntimeError\u001b[0m                              Traceback (most recent call last)",
      "\u001b[0;32m<ipython-input-121-61d6d2341a74>\u001b[0m in \u001b[0;36m<module>\u001b[0;34m\u001b[0m\n\u001b[1;32m      2\u001b[0m     \u001b[0;32mwhile\u001b[0m \u001b[0;32mTrue\u001b[0m\u001b[0;34m:\u001b[0m\u001b[0;34m\u001b[0m\u001b[0;34m\u001b[0m\u001b[0m\n\u001b[1;32m      3\u001b[0m         \u001b[0;31m# SIGINT can't be handled when polling, limit timeout to 1 second.\u001b[0m\u001b[0;34m\u001b[0m\u001b[0;34m\u001b[0m\u001b[0;34m\u001b[0m\u001b[0m\n\u001b[0;32m----> 4\u001b[0;31m         \u001b[0mmsg\u001b[0m \u001b[0;34m=\u001b[0m \u001b[0mc2\u001b[0m\u001b[0;34m.\u001b[0m\u001b[0mpoll\u001b[0m\u001b[0;34m(\u001b[0m\u001b[0;36m1.0\u001b[0m\u001b[0;34m)\u001b[0m\u001b[0;34m\u001b[0m\u001b[0;34m\u001b[0m\u001b[0m\n\u001b[0m\u001b[1;32m      5\u001b[0m         \u001b[0;32mif\u001b[0m \u001b[0mmsg\u001b[0m \u001b[0;32mis\u001b[0m \u001b[0;32mNone\u001b[0m\u001b[0;34m:\u001b[0m\u001b[0;34m\u001b[0m\u001b[0;34m\u001b[0m\u001b[0m\n\u001b[1;32m      6\u001b[0m             \u001b[0;32mcontinue\u001b[0m\u001b[0;34m\u001b[0m\u001b[0;34m\u001b[0m\u001b[0m\n",
      "\u001b[0;32m/opt/conda/lib/python3.8/site-packages/confluent_kafka/deserializing_consumer.py\u001b[0m in \u001b[0;36mpoll\u001b[0;34m(self, timeout)\u001b[0m\n\u001b[1;32m    123\u001b[0m \u001b[0;34m\u001b[0m\u001b[0m\n\u001b[1;32m    124\u001b[0m         \"\"\"\n\u001b[0;32m--> 125\u001b[0;31m         \u001b[0mmsg\u001b[0m \u001b[0;34m=\u001b[0m \u001b[0msuper\u001b[0m\u001b[0;34m(\u001b[0m\u001b[0mDeserializingConsumer\u001b[0m\u001b[0;34m,\u001b[0m \u001b[0mself\u001b[0m\u001b[0;34m)\u001b[0m\u001b[0;34m.\u001b[0m\u001b[0mpoll\u001b[0m\u001b[0;34m(\u001b[0m\u001b[0mtimeout\u001b[0m\u001b[0;34m)\u001b[0m\u001b[0;34m\u001b[0m\u001b[0;34m\u001b[0m\u001b[0m\n\u001b[0m\u001b[1;32m    126\u001b[0m \u001b[0;34m\u001b[0m\u001b[0m\n\u001b[1;32m    127\u001b[0m         \u001b[0;32mif\u001b[0m \u001b[0mmsg\u001b[0m \u001b[0;32mis\u001b[0m \u001b[0;32mNone\u001b[0m\u001b[0;34m:\u001b[0m\u001b[0;34m\u001b[0m\u001b[0;34m\u001b[0m\u001b[0m\n",
      "\u001b[0;31mRuntimeError\u001b[0m: Consumer closed"
     ]
    }
   ],
   "source": [
    "try:\n",
    "    while True:\n",
    "        # SIGINT can't be handled when polling, limit timeout to 1 second.\n",
    "        msg = c2.poll(1.0)\n",
    "        if msg is None:\n",
    "            continue\n",
    "        if msg.error():\n",
    "            raise KafkaException(msg.error())\n",
    "        else:\n",
    "            for w in msg.value().split(\" \"):\n",
    "                print(w)\n",
    "                p2.produce(topics[1], key=w, value=int(1))\n",
    "                p2.poll(0)\n",
    "                p2.flush()\n",
    "except KeyboardInterrupt:\n",
    "    sys.stderr.write('%% Aborted by user\\n')\n",
    "finally:\n",
    "    # Close down consumer to commit final offsets.\n",
    "    c2.close()"
   ]
  },
  {
   "cell_type": "markdown",
   "metadata": {},
   "source": [
    "## Counting Words"
   ]
  },
  {
   "cell_type": "code",
   "execution_count": 24,
   "metadata": {},
   "outputs": [],
   "source": [
    "consumer_conf['group.id'] = str(uuid4())\n",
    "consumer_conf['value.deserializer'] = IntegerDeserializer()\n",
    "\n",
    "words = {}"
   ]
  },
  {
   "cell_type": "code",
   "execution_count": 25,
   "metadata": {},
   "outputs": [],
   "source": [
    "c3 = DeserializingConsumer(consumer_conf)\n",
    "c3.subscribe([topics[1]])"
   ]
  },
  {
   "cell_type": "code",
   "execution_count": 26,
   "metadata": {},
   "outputs": [
    {
     "name": "stderr",
     "output_type": "stream",
     "text": [
      "%% Aborted by user\n"
     ]
    }
   ],
   "source": [
    "try:\n",
    "    while True:\n",
    "        # SIGINT can't be handled when polling, limit timeout to 1 second.\n",
    "        msg = c3.poll(1.0)\n",
    "        if msg is None:\n",
    "            continue\n",
    "        if msg.error():\n",
    "            raise KafkaException(msg.error())\n",
    "        else:\n",
    "            w = str(msg.key())\n",
    "            if w in words:\n",
    "                words[w] = words[w] + msg.value()\n",
    "            else:\n",
    "                words[w] = msg.value()\n",
    "except KeyboardInterrupt:\n",
    "    sys.stderr.write('%% Aborted by user\\n')\n",
    "finally:\n",
    "    # Close down consumer to commit final offsets.\n",
    "    c3.close()"
   ]
  },
  {
   "cell_type": "code",
   "execution_count": 28,
   "metadata": {},
   "outputs": [
    {
     "data": {
      "text/plain": [
       "{'Dolore': 8,\n",
       " 'porro': 25,\n",
       " 'aliquam': 24,\n",
       " 'neque': 36,\n",
       " 'adipisci': 36,\n",
       " 'numquam': 25,\n",
       " 'neque.': 8,\n",
       " 'Ut': 14,\n",
       " 'consectetur': 28,\n",
       " 'est': 25,\n",
       " 'numquam.': 6,\n",
       " 'etincidunt': 16,\n",
       " 'modi': 32,\n",
       " 'velit.': 7,\n",
       " 'Non': 10,\n",
       " 'velit': 29,\n",
       " 'voluptatem': 35,\n",
       " 'tempora': 30,\n",
       " 'labore.': 8,\n",
       " 'Dolorem': 10,\n",
       " 'quiquia': 35,\n",
       " 'consectetur.': 10,\n",
       " 'Porro': 6,\n",
       " 'ipsum': 34,\n",
       " 'ut': 27,\n",
       " 'dolor': 25,\n",
       " 'quiquia.': 8,\n",
       " 'labore': 21,\n",
       " 'magnam': 34,\n",
       " 'quaerat': 33,\n",
       " 'Quaerat': 13,\n",
       " 'modi.': 2,\n",
       " 'Est': 9,\n",
       " 'sed.': 8,\n",
       " 'Adipisci': 14,\n",
       " 'amet': 39,\n",
       " 'eius.': 12,\n",
       " 'Amet': 9,\n",
       " 'dolorem': 21,\n",
       " 'non': 18,\n",
       " 'dolorem.': 9,\n",
       " 'sed': 29,\n",
       " 'dolore': 39,\n",
       " 'Eius': 5,\n",
       " 'eius': 26,\n",
       " 'quaerat.': 6,\n",
       " 'Aliquam': 6,\n",
       " 'sit.': 8,\n",
       " 'quisquam': 22,\n",
       " 'amet.': 3,\n",
       " 'Etincidunt': 5,\n",
       " 'Quisquam': 1,\n",
       " 'adipisci.': 5,\n",
       " 'porro.': 7,\n",
       " 'Dolor': 4,\n",
       " 'quisquam.': 9,\n",
       " 'sit': 27,\n",
       " 'Neque': 11,\n",
       " 'aliquam.': 11,\n",
       " 'Labore': 7,\n",
       " 'non.': 5,\n",
       " 'ut.': 6,\n",
       " 'dolor.': 6,\n",
       " 'Modi': 8,\n",
       " 'Quiquia': 14,\n",
       " 'Magnam': 9,\n",
       " 'etincidunt.': 14,\n",
       " 'Consectetur': 5,\n",
       " 'ipsum.': 8,\n",
       " 'Numquam': 5,\n",
       " 'est.': 7,\n",
       " 'magnam.': 4,\n",
       " 'Ipsum': 7,\n",
       " 'dolore.': 6,\n",
       " 'tempora.': 5,\n",
       " 'Velit': 3,\n",
       " 'voluptatem.': 10,\n",
       " 'Sed': 5,\n",
       " 'Sit': 4,\n",
       " 'Tempora': 4,\n",
       " 'Voluptatem': 2}"
      ]
     },
     "execution_count": 28,
     "metadata": {},
     "output_type": "execute_result"
    }
   ],
   "source": [
    "words"
   ]
  },
  {
   "cell_type": "code",
   "execution_count": 29,
   "metadata": {},
   "outputs": [],
   "source": [
    "import numpy as np\n",
    "import matplotlib.pyplot as plt"
   ]
  },
  {
   "cell_type": "code",
   "execution_count": 30,
   "metadata": {},
   "outputs": [
    {
     "data": {
      "text/plain": [
       "<BarContainer object of 81 artists>"
      ]
     },
     "execution_count": 30,
     "metadata": {},
     "output_type": "execute_result"
    },
    {
     "data": {
      "image/png": "[encoded data removed]",
      "text/plain": [
       "<Figure size 432x288 with 1 Axes>"
      ]
     },
     "metadata": {
      "needs_background": "light"
     },
     "output_type": "display_data"
    }
   ],
   "source": [
    "plt.bar(words.keys(), words.values(), color='g')"
   ]
  },
  {
   "cell_type": "markdown",
   "metadata": {},
   "source": [
    "# Consuming Sentences and producing words lengths"
   ]
  },
  {
   "cell_type": "code",
   "execution_count": 43,
   "metadata": {},
   "outputs": [
    {
     "data": {
      "text/plain": [
       "'sentences'"
      ]
     },
     "execution_count": 43,
     "metadata": {},
     "output_type": "execute_result"
    }
   ],
   "source": [
    "topics[0]"
   ]
  },
  {
   "cell_type": "code",
   "execution_count": 126,
   "metadata": {},
   "outputs": [],
   "source": [
    "consumer_conf['group.id'] = str(uuid4())\n",
    "c4 = DeserializingConsumer(consumer_conf)\n",
    "c4.subscribe([topics[0]])\n",
    "\n",
    "pconf = {\n",
    "    'bootstrap.servers': brokers,\n",
    "    'key.serializer': StringSerializer('utf_8'),\n",
    "    'value.serializer': IntegerSerializer()\n",
    "}\n",
    "\n",
    "\n",
    "p2 = SerializingProducer(pconf)"
   ]
  },
  {
   "cell_type": "code",
   "execution_count": 128,
   "metadata": {},
   "outputs": [],
   "source": [
    "import time"
   ]
  },
  {
   "cell_type": "code",
   "execution_count": 129,
   "metadata": {},
   "outputs": [
    {
     "name": "stdout",
     "output_type": "stream",
     "text": [
      "Dolore\n",
      "porro\n",
      "aliquam\n",
      "neque\n",
      "adipisci\n",
      "numquam\n",
      "neque.\n",
      "Ut\n",
      "consectetur\n"
     ]
    },
    {
     "name": "stderr",
     "output_type": "stream",
     "text": [
      "%% Aborted by user\n"
     ]
    }
   ],
   "source": [
    "try:\n",
    "    while True:\n",
    "        # SIGINT can't be handled when polling, limit timeout to 1 second.\n",
    "        msg = c4.poll(1.0)\n",
    "        if msg is None:\n",
    "            continue\n",
    "        if msg.error():\n",
    "            raise KafkaException(msg.error())\n",
    "        else:\n",
    "            for w in msg.value().split(\" \"):\n",
    "                print(w)\n",
    "                p2.produce(topics[2], key=w, value=int(len(w)))\n",
    "                p2.poll(0)\n",
    "                p2.flush()\n",
    "                time.sleep(5)\n",
    "except KeyboardInterrupt:\n",
    "    sys.stderr.write('%% Aborted by user\\n')\n",
    "finally:\n",
    "    # Close down consumer to commit final offsets.\n",
    "    c4.close()"
   ]
  },
  {
   "cell_type": "markdown",
   "metadata": {},
   "source": [
    "## Identifying the Max"
   ]
  },
  {
   "cell_type": "code",
   "execution_count": 151,
   "metadata": {},
   "outputs": [],
   "source": [
    "consumer_conf = {\n",
    "    'bootstrap.servers': brokers,\n",
    "    'key.deserializer': string_deserializer,\n",
    "    'value.deserializer': IntegerDeserializer(),\n",
    "    'group.id': str(uuid4()),\n",
    "    'session.timeout.ms': 6000,\n",
    "    'auto.offset.reset': 'earliest'\n",
    "}"
   ]
  },
  {
   "cell_type": "code",
   "execution_count": 152,
   "metadata": {},
   "outputs": [],
   "source": [
    "c5 = DeserializingConsumer(consumer_conf)\n",
    "c5.subscribe([topics[2]])\n",
    "\n",
    "window = [-1, -1] # opening and closing instance\n",
    "buffer = []"
   ]
  },
  {
   "cell_type": "code",
   "execution_count": null,
   "metadata": {},
   "outputs": [],
   "source": []
  },
  {
   "cell_type": "code",
   "execution_count": 153,
   "metadata": {},
   "outputs": [
    {
     "name": "stdout",
     "output_type": "stream",
     "text": [
      "[6]\n",
      "6.0\n",
      "[5]\n",
      "5.0\n",
      "[7]\n",
      "7.0\n",
      "[5]\n",
      "5.0\n",
      "[8, 7, 6, 2, 11, 3, 8, 8, 2, 10, 4, 6, 3, 5, 5, 10, 4, 7]\n",
      "6.055555555555555\n",
      "[7, 7, 7, 7, 4, 12, 5, 5, 4, 2, 5, 8, 3, 10, 6, 4, 5, 8, 3, 8, 6, 7, 3, 5, 6, 12, 3, 4, 7, 10, 6, 4, 6, 6, 7, 7, 11, 5, 3, 6, 10, 7, 8, 4, 8, 5, 10, 5, 4, 5, 4, 7, 7, 8, 7, 8, 8, 5, 7, 4, 4]\n",
      "6.213114754098361\n",
      "[3, 8, 3, 3, 7, 7, 6, 7, 3, 10, 5, 3, 5, 4, 2, 7, 4, 4, 7, 4, 8, 7, 7, 4, 7, 4, 2, 7, 6, 8, 8, 4, 5, 6, 3, 5, 4, 5, 5, 3, 10, 3, 10, 8, 10, 5, 3, 5, 5, 8, 6, 8, 5, 7, 8, 8, 4, 3, 4]\n",
      "5.593220338983051\n",
      "[5, 9, 8, 8, 10, 2, 6, 5, 2, 5, 7, 5, 4, 6, 8, 7, 8, 7, 7, 7, 4, 12, 6, 5, 3, 9, 8, 5, 5, 12, 6, 10, 3, 7, 6, 7, 4, 7, 8, 3, 7, 3, 5, 6, 8, 5, 7, 3, 4, 8, 6, 5, 3, 10, 7, 5, 5, 7]\n",
      "6.206896551724138\n",
      "[11, 5, 5, 5, 5, 6, 7, 5, 4, 2, 7, 8, 4, 3, 5, 4, 4, 3, 6, 4, 6, 6, 4, 3, 4, 7, 6, 7, 7, 5, 8, 5, 3, 5, 6, 7, 3, 2, 6, 8, 7, 3, 8, 7, 4, 4, 7, 5, 4, 6, 7, 2, 5, 5, 6, 11, 11, 7, 11, 11, 2]\n",
      "5.639344262295082\n",
      "[7, 4, 7, 10, 8, 7, 7, 7, 3, 11, 3, 4, 4, 6, 3, 4, 5, 8, 11, 7, 5, 5, 5, 7, 11, 7, 6, 8, 4, 6, 6, 6, 6, 5, 7, 3, 8, 4, 6, 7, 7, 7, 7, 7, 3, 4, 3, 5, 10, 4, 5, 11, 5, 3, 5, 7, 7, 5, 8]\n",
      "6.11864406779661\n",
      "[7, 7, 8, 5, 11, 7, 3, 5, 5, 4, 6, 10, 6, 4, 3, 6, 7, 5, 5, 6, 7, 11, 7, 7, 3, 6, 4, 7, 5, 7, 10, 5, 3, 5, 4, 8, 7, 6, 6, 8, 3, 7, 8, 10, 3, 7, 4, 6, 4, 5, 7, 11, 7, 2, 3, 5, 5]\n",
      "6.017543859649122\n",
      "[5, 6, 3, 5, 5, 6, 7, 10, 7, 8, 4, 6, 12, 7, 7, 8, 2, 10, 8, 2, 5, 7, 11, 4, 6, 3, 5, 7, 7, 7, 8, 5, 3, 6, 6, 3, 10, 7, 4, 7, 10, 8, 7, 4, 3, 5, 5, 5, 11, 5, 5, 5, 2, 3, 6, 2, 5, 3]\n",
      "5.913793103448276\n",
      "[5, 5, 5, 3, 7, 7, 7, 4, 9, 2, 7, 7, 11, 6, 5, 5, 7, 3, 7, 5, 7, 3, 2, 6, 4, 5, 8, 5, 5, 5, 6, 8, 5, 5, 5, 6, 7, 7, 2, 8, 10, 6, 5, 3, 5, 3, 8, 4, 8, 3, 6, 6, 4, 7, 3, 3, 3, 3]\n",
      "5.448275862068965\n",
      "[6, 8, 5, 10, 5, 10, 4, 8, 6, 11, 6, 11, 4, 5, 7, 7, 2, 5, 9, 7, 10, 10, 6, 6, 7, 10, 11, 4, 7, 8, 6, 11, 8, 10, 5, 3, 3, 7, 8, 2, 11, 6, 6, 3, 8, 4, 5, 4, 11, 3, 5, 5, 8, 7, 7, 7, 6, 3, 11]\n",
      "6.745762711864407\n",
      "[3, 7, 7, 8, 7, 2, 3, 11, 4, 5, 4, 4, 7, 5, 6, 7, 7, 3, 8, 6, 7, 6, 11, 6, 4, 7, 4, 11, 11, 8, 11, 6, 5, 10, 6, 3, 10, 8, 5, 11, 7, 10, 5, 10, 5, 9, 5, 6, 4, 5, 7, 6, 6, 8, 10, 7, 6, 4, 6, 11]\n",
      "6.683333333333334\n",
      "[3, 7, 2, 3, 8, 5, 5, 3, 11, 3, 3, 4, 7, 5, 7, 5, 6, 8, 6, 4, 4, 7, 3, 5, 3, 7, 8, 6, 3, 6, 7, 3, 11, 8, 6, 10, 5, 10, 6, 5, 6, 3, 7, 7, 6, 4, 5, 8, 7, 6, 8, 4, 7, 6, 6, 6, 4, 6, 6, 10]\n",
      "5.833333333333333\n",
      "[7, 5, 8, 5, 10, 4, 7, 8, 7, 7, 6, 6, 5, 4, 2, 4, 7, 6, 7, 6, 7, 8, 7, 5, 4, 8, 4, 4, 4, 3, 3, 11, 11, 4, 7, 10, 5, 4, 5, 4, 4, 7, 8, 6, 8, 4, 7, 5, 7, 12, 7, 10, 3, 2, 5, 5, 6, 2]\n",
      "5.982758620689655\n",
      "[7, 2, 3, 6, 10, 12, 2, 3, 4, 7, 6, 7, 8, 2, 4, 7, 7, 7, 4, 6, 9, 5, 6, 10, 8, 6, 2, 7, 10, 7, 3, 3, 7, 4, 6, 7, 7, 8, 11, 10, 6, 5, 11, 4, 8, 7, 8, 3, 5, 8, 7, 8, 5, 8, 8, 4, 2]\n",
      "6.2631578947368425\n",
      "[7, 7, 7, 4, 12, 3, 3, 7, 7, 6, 4, 7, 5, 7, 4, 6, 5, 10, 3, 3, 7, 5, 5, 6, 4, 5, 7, 11, 6, 11, 8, 7, 7, 9, 5, 7, 7, 2, 6, 5, 3, 6, 4, 7, 6, 5, 6, 7, 5, 7, 3, 11, 7, 8, 6, 5, 8]\n",
      "6.157894736842105\n",
      "[9, 6, 5, 6, 3, 6, 3, 7, 3, 8, 3, 9, 5, 6, 6, 5, 3, 5, 7, 7, 7, 9, 6, 3, 7, 5, 7, 8, 7, 6, 4, 3, 5, 8, 5, 7, 5, 4, 5, 8, 6, 4, 6, 7, 6, 7, 4, 4, 7, 11, 10, 5, 11, 3, 2, 7, 5, 8]\n",
      "5.931034482758621\n",
      "[3, 6, 7, 6, 5, 4, 7, 6, 5, 6, 7, 5, 4, 6, 7, 3, 7, 7, 7, 3, 8, 8, 8, 4, 3, 5, 6, 5, 8, 4, 8, 3, 7, 4, 3, 3, 5, 8, 5, 4, 3, 5, 7, 11, 5, 5, 11, 5, 4, 10, 4, 5, 11, 7, 5, 3, 7, 4]\n",
      "5.724137931034483\n",
      "[6, 10, 3, 7, 9, 3, 6, 7, 6, 7, 6, 7, 5, 6, 7, 10, 3, 3, 7, 4, 7, 5, 6, 2, 7, 5, 5, 5, 6, 6, 4, 7, 3, 4, 4, 7, 2, 4, 2, 11, 4, 7, 6, 4, 5, 6, 7, 11, 6, 7, 8, 4, 3, 5, 3, 7]\n",
      "5.660714285714286\n",
      "[7, 10, 5, 3, 3, 10, 10, 9, 3, 4, 8, 7, 4, 5, 4, 4, 11, 6, 6, 3, 3, 7, 7, 8, 5, 5, 6, 7, 7, 7, 4, 10, 11, 5, 5, 5, 3, 7, 4, 7, 2, 5, 7, 5, 10, 8, 3, 7, 11, 4, 5, 4, 3, 5, 4, 4, 8, 7, 11, 7, 6]\n",
      "6.081967213114754\n",
      "[5, 4, 4, 8, 8, 5, 7, 8, 7, 5, 8, 12, 3, 7, 4, 8, 7, 4, 3, 8, 10, 11, 2, 4, 11, 7, 6, 7, 5, 4, 6, 3, 5, 3, 4, 3, 10, 6, 6, 7, 5, 7, 7, 8, 11, 2, 3, 3, 3, 4, 6, 10, 9, 8, 4, 6, 8, 7, 6]\n",
      "6.135593220338983\n",
      "[10, 7, 4, 11, 8, 8, 4, 4, 4, 9, 7, 5, 4, 7, 8, 4, 2, 7, 5, 5, 2, 8, 8, 6, 8, 5, 5, 11, 11, 4, 12]\n",
      "6.548387096774194\n",
      "[6]\n",
      "6.0\n",
      "[5]\n",
      "5.0\n",
      "[7]\n",
      "7.0\n",
      "[5]\n",
      "5.0\n",
      "[8]\n",
      "8.0\n",
      "[7]\n",
      "7.0\n",
      "[6]\n",
      "6.0\n",
      "[2]\n",
      "2.0\n"
     ]
    },
    {
     "name": "stderr",
     "output_type": "stream",
     "text": [
      "%% Aborted by user\n"
     ]
    }
   ],
   "source": [
    "try:\n",
    "    while True:\n",
    "        # SIGINT can't be handled when polling, limit timeout to 1 second.\n",
    "        msg = c5.poll(1)\n",
    "        if msg is None:\n",
    "            continue\n",
    "        if msg.error():\n",
    "            raise KafkaException(msg.error())\n",
    "        else:\n",
    "            if(window[0]==-1):\n",
    "                window[0]=msg.timestamp()[1]\n",
    "                window[1]=msg.timestamp()[1]+4*100\n",
    "                buffer.append(msg.value())\n",
    "            elif (msg.timestamp()[1]> window[1]):\n",
    "                print(buffer)\n",
    "                print(sum(buffer) / len(buffer))\n",
    "                old = window[1]\n",
    "                window[0]= old\n",
    "                window[1]= old +4*100\n",
    "                buffer = [msg.value()]\n",
    "            else:\n",
    "                buffer.append(msg.value())\n",
    "except KeyboardInterrupt:\n",
    "    sys.stderr.write('%% Aborted by user\\n')\n",
    "finally:\n",
    "    # Close down consumer to commit final offsets.\n",
    "    c5.close()"
   ]
  },
  {
   "cell_type": "code",
   "execution_count": 150,
   "metadata": {},
   "outputs": [
    {
     "data": {
      "text/plain": [
       "[11]"
      ]
     },
     "execution_count": 150,
     "metadata": {},
     "output_type": "execute_result"
    }
   ],
   "source": [
    "buffer"
   ]
  },
  {
   "cell_type": "code",
   "execution_count": null,
   "metadata": {},
   "outputs": [],
   "source": []
  }
 ],
 "metadata": {
  "kernelspec": {
   "display_name": "Python 3",
   "language": "python",
   "name": "python3"
  },
  "language_info": {
   "codemirror_mode": {
    "name": "ipython",
    "version": 3
   },
   "file_extension": ".py",
   "mimetype": "text/x-python",
   "name": "python",
   "nbconvert_exporter": "python",
   "pygments_lexer": "ipython3",
   "version": "3.8.5"
  }
 },
 "nbformat": 4,
 "nbformat_minor": 4
}
