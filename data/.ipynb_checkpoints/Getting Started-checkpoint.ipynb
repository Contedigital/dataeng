{
 "cells": [
  {
   "cell_type": "markdown",
   "metadata": {},
   "source": [
    "# Welcome to the Jupyter Zoo"
   ]
  },
  {
   "cell_type": "markdown",
   "metadata": {},
   "source": [
    "![](https://image.shutterstock.com/image-photo/green-zoo-sign-on-fence-260nw-101025070.jpg)"
   ]
  },
  {
   "cell_type": "markdown",
   "metadata": {},
   "source": [
    "# Some Python"
   ]
  },
  {
   "cell_type": "markdown",
   "metadata": {},
   "source": [
    "![](https://i.pinimg.com/originals/5f/3c/c8/5f3cc8f38294cd1bf30bbded719245ee.png)"
   ]
  },
  {
   "cell_type": "code",
   "execution_count": 1,
   "metadata": {},
   "outputs": [],
   "source": [
    "import requests"
   ]
  },
  {
   "cell_type": "code",
   "execution_count": 6,
   "metadata": {},
   "outputs": [
    {
     "data": {
      "text/plain": [
       "{'word': 'bicycle'}"
      ]
     },
     "execution_count": 6,
     "metadata": {},
     "output_type": "execute_result"
    }
   ],
   "source": [
    "requests.get(\"http://dataeng_words_1:8080/noun\").json()"
   ]
  },
  {
   "cell_type": "code",
   "execution_count": 7,
   "metadata": {},
   "outputs": [
    {
     "data": {
      "text/plain": [
       "{'word': 'helps'}"
      ]
     },
     "execution_count": 7,
     "metadata": {},
     "output_type": "execute_result"
    }
   ],
   "source": [
    "requests.get(\"http://dataeng_words_1:8080/verb\").json()"
   ]
  },
  {
   "cell_type": "code",
   "execution_count": 9,
   "metadata": {},
   "outputs": [
    {
     "data": {
      "text/plain": [
       "{'word': 'the serverless'}"
      ]
     },
     "execution_count": 9,
     "metadata": {},
     "output_type": "execute_result"
    }
   ],
   "source": [
    "requests.get(\"http://dataeng_words_1:8080/adjective\").json()"
   ]
  },
  {
   "cell_type": "markdown",
   "metadata": {},
   "source": [
    "## Some Pandas"
   ]
  },
  {
   "cell_type": "code",
   "execution_count": 11,
   "metadata": {},
   "outputs": [],
   "source": [
    "import pandas as pd"
   ]
  },
  {
   "cell_type": "code",
   "execution_count": 12,
   "metadata": {},
   "outputs": [],
   "source": [
    "df = pd.DataFrame(\n",
    "{\"a\" : [4 ,5, 6],\n",
    "\"b\" : [7, 8, 9],\n",
    "\"c\" : [10, 11, 12]},\n",
    "index = [1, 2, 3])"
   ]
  },
  {
   "cell_type": "code",
   "execution_count": 13,
   "metadata": {},
   "outputs": [
    {
     "data": {
      "text/html": [
       "<div>\n",
       "<style scoped>\n",
       "    .dataframe tbody tr th:only-of-type {\n",
       "        vertical-align: middle;\n",
       "    }\n",
       "\n",
       "    .dataframe tbody tr th {\n",
       "        vertical-align: top;\n",
       "    }\n",
       "\n",
       "    .dataframe thead th {\n",
       "        text-align: right;\n",
       "    }\n",
       "</style>\n",
       "<table border=\"1\" class=\"dataframe\">\n",
       "  <thead>\n",
       "    <tr style=\"text-align: right;\">\n",
       "      <th></th>\n",
       "      <th>a</th>\n",
       "      <th>b</th>\n",
       "      <th>c</th>\n",
       "    </tr>\n",
       "  </thead>\n",
       "  <tbody>\n",
       "    <tr>\n",
       "      <th>1</th>\n",
       "      <td>4</td>\n",
       "      <td>7</td>\n",
       "      <td>10</td>\n",
       "    </tr>\n",
       "    <tr>\n",
       "      <th>2</th>\n",
       "      <td>5</td>\n",
       "      <td>8</td>\n",
       "      <td>11</td>\n",
       "    </tr>\n",
       "    <tr>\n",
       "      <th>3</th>\n",
       "      <td>6</td>\n",
       "      <td>9</td>\n",
       "      <td>12</td>\n",
       "    </tr>\n",
       "  </tbody>\n",
       "</table>\n",
       "</div>"
      ],
      "text/plain": [
       "   a  b   c\n",
       "1  4  7  10\n",
       "2  5  8  11\n",
       "3  6  9  12"
      ]
     },
     "execution_count": 13,
     "metadata": {},
     "output_type": "execute_result"
    }
   ],
   "source": [
    "df"
   ]
  },
  {
   "cell_type": "markdown",
   "metadata": {},
   "source": [
    "[link](https://pandas.pydata.org/Pandas_Cheat_Sheet.pdf)"
   ]
  },
  {
   "cell_type": "markdown",
   "metadata": {},
   "source": [
    "## Some Bash"
   ]
  },
  {
   "cell_type": "code",
   "execution_count": 18,
   "metadata": {},
   "outputs": [
    {
     "name": "stdout",
     "output_type": "stream",
     "text": [
      "'Getting Started.ipynb'   test.txt\r\n"
     ]
    }
   ],
   "source": [
    "! ls"
   ]
  },
  {
   "cell_type": "code",
   "execution_count": 19,
   "metadata": {},
   "outputs": [
    {
     "name": "stdout",
     "output_type": "stream",
     "text": [
      "Package                       Version\r\n",
      "----------------------------- -------------------\r\n",
      "alembic                       1.4.2\r\n",
      "argon2-cffi                   20.1.0\r\n",
      "async-generator               1.10\r\n",
      "attrs                         20.1.0\r\n",
      "backcall                      0.2.0\r\n",
      "backports.functools-lru-cache 1.6.1\r\n",
      "beautifulsoup4                4.9.1\r\n",
      "bleach                        3.1.5\r\n",
      "blinker                       1.4\r\n",
      "bokeh                         2.1.1\r\n",
      "Bottleneck                    1.3.2\r\n",
      "brotlipy                      0.7.0\r\n",
      "certifi                       2020.6.20\r\n",
      "certipy                       0.1.3\r\n",
      "cffi                          1.14.1\r\n",
      "chardet                       3.0.4\r\n",
      "click                         7.1.2\r\n",
      "cloudpickle                   1.5.0\r\n",
      "conda                         4.8.3\r\n",
      "conda-package-handling        1.6.1\r\n",
      "cryptography                  3.0\r\n",
      "cycler                        0.10.0\r\n",
      "Cython                        0.29.21\r\n",
      "cytoolz                       0.10.1\r\n",
      "dask                          2.20.0\r\n",
      "decorator                     4.4.2\r\n",
      "defusedxml                    0.6.0\r\n",
      "dill                          0.3.2\r\n",
      "distributed                   2.24.0\r\n",
      "entrypoints                   0.3\r\n",
      "fastcache                     1.1.0\r\n",
      "fsspec                        0.8.0\r\n",
      "gmpy2                         2.1.0b1\r\n",
      "h5py                          2.10.0\r\n",
      "HeapDict                      1.0.1\r\n",
      "idna                          2.10\r\n",
      "imagecodecs                   2020.5.30\r\n",
      "imageio                       2.9.0\r\n",
      "importlib-metadata            1.7.0\r\n",
      "ipykernel                     5.3.4\r\n",
      "ipympl                        0.5.7\r\n",
      "ipython                       7.17.0\r\n",
      "ipython-genutils              0.2.0\r\n",
      "ipywidgets                    7.5.1\r\n",
      "jedi                          0.17.2\r\n",
      "Jinja2                        2.11.2\r\n",
      "joblib                        0.16.0\r\n",
      "json5                         0.9.4\r\n",
      "jsonschema                    3.2.0\r\n",
      "jupyter-client                6.1.6\r\n",
      "jupyter-core                  4.6.3\r\n",
      "jupyter-telemetry             0.0.5\r\n",
      "jupyterhub                    1.1.0\r\n",
      "jupyterlab                    2.2.5\r\n",
      "jupyterlab-server             1.2.0\r\n",
      "kiwisolver                    1.2.0\r\n",
      "llvmlite                      0.31.0\r\n",
      "locket                        0.2.0\r\n",
      "Mako                          1.1.3\r\n",
      "MarkupSafe                    1.1.1\r\n",
      "matplotlib                    3.2.2\r\n",
      "mistune                       0.8.4\r\n",
      "mock                          4.0.2\r\n",
      "mpmath                        1.1.0\r\n",
      "msgpack                       1.0.0\r\n",
      "nbconvert                     5.6.1\r\n",
      "nbformat                      5.0.7\r\n",
      "networkx                      2.5\r\n",
      "notebook                      6.1.3\r\n",
      "numba                         0.48.0\r\n",
      "numexpr                       2.7.1\r\n",
      "numpy                         1.19.1\r\n",
      "oauthlib                      3.0.1\r\n",
      "olefile                       0.46\r\n",
      "packaging                     20.4\r\n",
      "pamela                        1.0.0\r\n",
      "pandas                        1.1.1\r\n",
      "pandocfilters                 1.4.2\r\n",
      "parso                         0.7.1\r\n",
      "partd                         1.1.0\r\n",
      "patsy                         0.5.1\r\n",
      "pexpect                       4.8.0\r\n",
      "pickleshare                   0.7.5\r\n",
      "Pillow                        7.2.0\r\n",
      "pip                           20.2.2\r\n",
      "prometheus-client             0.8.0\r\n",
      "prompt-toolkit                3.0.6\r\n",
      "protobuf                      3.12.4\r\n",
      "psutil                        5.7.2\r\n",
      "ptyprocess                    0.6.0\r\n",
      "pycosat                       0.6.3\r\n",
      "pycparser                     2.20\r\n",
      "pycurl                        7.43.0.5\r\n",
      "Pygments                      2.6.1\r\n",
      "PyJWT                         1.7.1\r\n",
      "pyOpenSSL                     19.1.0\r\n",
      "pyparsing                     2.4.7\r\n",
      "pyrsistent                    0.16.0\r\n",
      "PySocks                       1.7.1\r\n",
      "python-dateutil               2.8.1\r\n",
      "python-editor                 1.0.4\r\n",
      "python-json-logger            0.1.11\r\n",
      "pytz                          2020.1\r\n",
      "PyWavelets                    1.1.1\r\n",
      "PyYAML                        5.3.1\r\n",
      "pyzmq                         19.0.2\r\n",
      "requests                      2.24.0\r\n",
      "rpy2                          3.1.0\r\n",
      "ruamel-yaml                   0.15.80\r\n",
      "ruamel.yaml                   0.16.10\r\n",
      "ruamel.yaml.clib              0.2.0\r\n",
      "scikit-image                  0.17.2\r\n",
      "scikit-learn                  0.23.2\r\n",
      "scipy                         1.5.2\r\n",
      "seaborn                       0.10.1\r\n",
      "Send2Trash                    1.5.0\r\n",
      "setuptools                    49.6.0.post20200814\r\n",
      "simplegeneric                 0.8.1\r\n",
      "six                           1.15.0\r\n",
      "sortedcontainers              2.2.2\r\n",
      "soupsieve                     2.0.1\r\n",
      "SQLAlchemy                    1.3.19\r\n",
      "statsmodels                   0.11.1\r\n",
      "sympy                         1.6.2\r\n",
      "tables                        3.6.1\r\n",
      "tblib                         1.6.0\r\n",
      "terminado                     0.8.3\r\n",
      "testpath                      0.4.4\r\n",
      "threadpoolctl                 2.1.0\r\n",
      "tifffile                      2020.8.13\r\n",
      "toolz                         0.10.0\r\n",
      "tornado                       6.0.4\r\n",
      "tqdm                          4.48.2\r\n",
      "traitlets                     4.3.3\r\n",
      "typing-extensions             3.7.4.2\r\n",
      "tzlocal                       2.1\r\n",
      "urllib3                       1.25.10\r\n",
      "vincent                       0.4.4\r\n",
      "wcwidth                       0.2.5\r\n",
      "webencodings                  0.5.1\r\n",
      "wheel                         0.35.1\r\n",
      "widgetsnbextension            3.5.1\r\n",
      "xlrd                          1.2.0\r\n",
      "zict                          2.0.0\r\n",
      "zipp                          3.1.0\r\n"
     ]
    }
   ],
   "source": [
    "! pip list"
   ]
  },
  {
   "cell_type": "code",
   "execution_count": 21,
   "metadata": {},
   "outputs": [
    {
     "name": "stdout",
     "output_type": "stream",
     "text": [
      "Collecting pymongo\n",
      "  Downloading pymongo-3.11.0-cp38-cp38-manylinux2014_x86_64.whl (530 kB)\n",
      "\u001b[K     |████████████████████████████████| 530 kB 1.1 MB/s eta 0:00:01\n",
      "\u001b[?25hInstalling collected packages: pymongo\n",
      "Successfully installed pymongo-3.11.0\n"
     ]
    }
   ],
   "source": [
    "! pip install pymongo"
   ]
  },
  {
   "cell_type": "code",
   "execution_count": null,
   "metadata": {},
   "outputs": [],
   "source": []
  }
 ],
 "metadata": {
  "kernelspec": {
   "display_name": "Python 3",
   "language": "python",
   "name": "python3"
  },
  "language_info": {
   "codemirror_mode": {
    "name": "ipython",
    "version": 3
   },
   "file_extension": ".py",
   "mimetype": "text/x-python",
   "name": "python",
   "nbconvert_exporter": "python",
   "pygments_lexer": "ipython3",
   "version": "3.8.5"
  }
 },
 "nbformat": 4,
 "nbformat_minor": 4
}
