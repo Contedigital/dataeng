{
 "cells": [
  {
   "cell_type": "markdown",
   "metadata": {},
   "source": [
    "## Serializing and Deserializing Strings"
   ]
  },
  {
   "cell_type": "code",
   "execution_count": 31,
   "metadata": {},
   "outputs": [],
   "source": [
    "from confluent_kafka import SerializingProducer\n",
    "from confluent_kafka.serialization import StringSerializer\n",
    "import json\n",
    "from uuid import uuid4"
   ]
  },
  {
   "cell_type": "code",
   "execution_count": 46,
   "metadata": {},
   "outputs": [],
   "source": [
    "topic = \"topic1\"\n",
    "brokers = \"kafka1:9092,kafka2:9093,\""
   ]
  },
  {
   "cell_type": "markdown",
   "metadata": {},
   "source": [
    "### Producer"
   ]
  },
  {
   "cell_type": "markdown",
   "metadata": {},
   "source": [
    "Reports the failure or success of a message delivery.\n",
    "Args:  \n",
    "    - err (KafkaError): The error that occurred on None on success.\n",
    "    - msg (Message): The message that was produced or failed.\n",
    "\n",
    "Note: In the delivery report callback the Message.key() and Message.value() will be the binary format as encoded by any configured Serializers and not the same object that was passed to produce().\n",
    "If you wish to pass the original object(s) for key and value to delivery\n",
    "report callback we recommend a bound callback or lambda where you pass  the objects along."
   ]
  },
  {
   "cell_type": "code",
   "execution_count": 47,
   "metadata": {},
   "outputs": [],
   "source": [
    "def delivery_report(err, msg):\n",
    "\n",
    "    if err is not None:\n",
    "        print(\"Delivery failed for User record {}: {}\".format(msg.key(), err))\n",
    "        return\n",
    "    print('User record {} successfully produced to {} [{}] at offset {}'.format(\n",
    "        msg.key(), msg.topic(), msg.partition(), msg.offset()))"
   ]
  },
  {
   "cell_type": "code",
   "execution_count": null,
   "metadata": {},
   "outputs": [],
   "source": []
  },
  {
   "cell_type": "code",
   "execution_count": 48,
   "metadata": {},
   "outputs": [],
   "source": [
    "producer_conf = {\n",
    "        'bootstrap.servers': brokers,\n",
    "        'key.serializer': StringSerializer('utf_8'),\n",
    "        'value.serializer': StringSerializer('utf_8')}"
   ]
  },
  {
   "cell_type": "code",
   "execution_count": 49,
   "metadata": {},
   "outputs": [],
   "source": [
    "producer = SerializingProducer(producer_conf)"
   ]
  },
  {
   "cell_type": "code",
   "execution_count": 63,
   "metadata": {},
   "outputs": [],
   "source": [
    "with open('./data.json') as f:\n",
    "    data = json.load(f)"
   ]
  },
  {
   "cell_type": "code",
   "execution_count": 65,
   "metadata": {},
   "outputs": [
    {
     "name": "stdout",
     "output_type": "stream",
     "text": [
      "User record b'91bf99a8-4d4c-4e38-94ed-71f32849a81b' successfully produced to topic1 [3] at offset 2\n",
      "User record b'fe8f0ab3-172c-47b9-8e7d-be6c086b1400' successfully produced to topic1 [3] at offset 3\n",
      "User record b'bec0fac6-e9e5-46a9-aa69-09acf5c68d84' successfully produced to topic1 [4] at offset 2\n",
      "User record b'f4efbd1e-e268-4a42-a48f-6ad609fb72e4' successfully produced to topic1 [4] at offset 3\n",
      "User record b'69936374-5fa1-46b7-b78e-5022128a7a8f' successfully produced to topic1 [0] at offset 1\n"
     ]
    },
    {
     "name": "stderr",
     "output_type": "stream",
     "text": [
      "% Message delivered to test [0] @ 6\n",
      "% Message delivered to test [0] @ 7\n",
      "% Message delivered to test [0] @ 8\n",
      "% Message delivered to test [0] @ 9\n",
      "% Message delivered to test [0] @ 10\n",
      "% Message delivered to test [0] @ 11\n",
      "% Message delivered to test [0] @ 12\n",
      "% Message delivered to test [0] @ 13\n",
      "% Message delivered to test [0] @ 14\n"
     ]
    },
    {
     "data": {
      "text/plain": [
       "1"
      ]
     },
     "execution_count": 65,
     "metadata": {},
     "output_type": "execute_result"
    }
   ],
   "source": [
    "for m in data:\n",
    "    producer.poll(0.0)\n",
    "    producer.produce(topic=topic, key=str(uuid4()), \n",
    "                     value=str(m),\n",
    "                     on_delivery=delivery_report)\n",
    "p.poll(0)"
   ]
  },
  {
   "cell_type": "code",
   "execution_count": 66,
   "metadata": {},
   "outputs": [
    {
     "name": "stdout",
     "output_type": "stream",
     "text": [
      "User record b'5069b8ee-263c-4d77-bb0b-549102db9ccc' successfully produced to topic1 [3] at offset 4\n",
      "User record b'f674fb13-1616-4212-bdfe-a8b758458305' successfully produced to topic1 [0] at offset 2\n",
      "User record b'64d04480-36c5-4a3e-9653-0ca387026787' successfully produced to topic1 [2] at offset 1\n",
      "User record b'2efd1631-bedf-40a7-af0d-f6cc8be3a07b' successfully produced to topic1 [2] at offset 2\n",
      "User record b'7bc38672-a918-4c97-8a9e-dd79d112b5f1' successfully produced to topic1 [2] at offset 3\n"
     ]
    },
    {
     "data": {
      "text/plain": [
       "0"
      ]
     },
     "execution_count": 66,
     "metadata": {},
     "output_type": "execute_result"
    }
   ],
   "source": [
    "producer.flush()"
   ]
  },
  {
   "cell_type": "markdown",
   "metadata": {},
   "source": [
    "### Consumer"
   ]
  },
  {
   "cell_type": "code",
   "execution_count": 67,
   "metadata": {},
   "outputs": [],
   "source": [
    "from confluent_kafka import DeserializingConsumer\n",
    "from confluent_kafka.serialization import StringDeserializer"
   ]
  },
  {
   "cell_type": "code",
   "execution_count": 68,
   "metadata": {},
   "outputs": [],
   "source": [
    "string_deserializer = StringDeserializer('utf_8')"
   ]
  },
  {
   "cell_type": "code",
   "execution_count": 69,
   "metadata": {},
   "outputs": [],
   "source": [
    "consumer_conf = {'bootstrap.servers': brokers,\n",
    "                     'key.deserializer': string_deserializer,\n",
    "                     'value.deserializer': string_deserializer,\n",
    "                     'group.id': \"consumer5\"}"
   ]
  },
  {
   "cell_type": "code",
   "execution_count": 70,
   "metadata": {},
   "outputs": [],
   "source": [
    "consumer = DeserializingConsumer(consumer_conf)\n",
    "consumer.subscribe([topic])"
   ]
  },
  {
   "cell_type": "code",
   "execution_count": null,
   "metadata": {},
   "outputs": [],
   "source": [
    "while True:\n",
    "    try:\n",
    "        # SIGINT can't be handled when polling, limit timeout to 1 second.\n",
    "        msg = consumer.poll(1.0)\n",
    "        if msg is None:\n",
    "            continue\n",
    "        m = msg.value()\n",
    "        if m is not None:\n",
    "            print(m)\n",
    "    except KeyboardInterrupt:\n",
    "        break\n",
    "\n",
    "consumer.close()"
   ]
  },
  {
   "cell_type": "markdown",
   "metadata": {},
   "source": [
    "## Avro"
   ]
  },
  {
   "cell_type": "code",
   "execution_count": null,
   "metadata": {},
   "outputs": [],
   "source": []
  }
 ],
 "metadata": {
  "kernelspec": {
   "display_name": "Python 3",
   "language": "python",
   "name": "python3"
  },
  "language_info": {
   "codemirror_mode": {
    "name": "ipython",
    "version": 3
   },
   "file_extension": ".py",
   "mimetype": "text/x-python",
   "name": "python",
   "nbconvert_exporter": "python",
   "pygments_lexer": "ipython3",
   "version": "3.8.5"
  }
 },
 "nbformat": 4,
 "nbformat_minor": 4
}
